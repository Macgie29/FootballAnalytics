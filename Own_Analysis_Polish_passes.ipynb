{
  "nbformat": 4,
  "nbformat_minor": 0,
  "metadata": {
    "colab": {
      "provenance": [],
      "private_outputs": true,
      "mount_file_id": "1xeMp8jVjKpM8zDagyazPixwq_EbKsJrC",
      "authorship_tag": "ABX9TyPvkWDKJyzdEOjxPshi+OoS",
      "include_colab_link": true
    },
    "kernelspec": {
      "name": "python3",
      "display_name": "Python 3"
    },
    "language_info": {
      "name": "python"
    }
  },
  "cells": [
    {
      "cell_type": "markdown",
      "metadata": {
        "id": "view-in-github",
        "colab_type": "text"
      },
      "source": [
        "<a href=\"https://colab.research.google.com/github/Macgie29/FootballAnalytics/blob/main/Own_Analysis_Polish_passes.ipynb\" target=\"_parent\"><img src=\"https://colab.research.google.com/assets/colab-badge.svg\" alt=\"Open In Colab\"/></a>"
      ]
    },
    {
      "cell_type": "code",
      "execution_count": null,
      "metadata": {
        "id": "2bWL5TyIyDGo"
      },
      "outputs": [],
      "source": [
        "#importing necessary libraries\n",
        "import pathlib\n",
        "import os\n",
        "import pandas as pd\n",
        "import json\n",
        "\n",
        "\n",
        "from sklearn.preprocessing import MultiLabelBinarizer\n",
        "\n",
        "import matplotlib.pyplot as plt\n",
        "import numpy as np\n",
        "from mplsoccer import Pitch, Sbopen, VerticalPitch"
      ]
    },
    {
      "cell_type": "markdown",
      "source": [
        "# New section"
      ],
      "metadata": {
        "id": "2q7z5u4gYuOQ"
      }
    },
    {
      "cell_type": "code",
      "source": [
        "tags = pd.read_csv('/content/drive/MyDrive/Colab Notebooks/Football_Analytics/Learning/wyscout/tags2name.csv')\n",
        "events_name = pd.read_csv('/content/drive/MyDrive/Colab Notebooks/Football_Analytics/Learning/wyscout/eventid2name.csv')\n",
        "events_name.head()"
      ],
      "metadata": {
        "id": "cUO-2mhcnhXb"
      },
      "execution_count": null,
      "outputs": []
    },
    {
      "cell_type": "code",
      "source": [
        "path = \"/content/drive/MyDrive/Colab Notebooks/Football_Analytics/Learning/wyscout/matches/matches_World_Cup.json\"\n",
        "\n",
        "with open(path) as f:\n",
        "    data = json.load(f)\n",
        "#save it in a dataframe\n",
        "df_matches = pd.DataFrame(data)\n",
        "#structure of data\n",
        "df_matches.head()"
      ],
      "metadata": {
        "id": "kIFHqzT3yJXU"
      },
      "execution_count": null,
      "outputs": []
    },
    {
      "cell_type": "code",
      "source": [
        "path = \"/content/drive/MyDrive/Colab Notebooks/Football_Analytics/Learning/wyscout/teams.json\"\n",
        "\n",
        "with open(path) as f:\n",
        "    data = json.load(f)\n",
        "#save it in a dataframe\n",
        "df_teams = pd.DataFrame(data)\n",
        "#structure of data\n",
        "df_teams.head()"
      ],
      "metadata": {
        "id": "ZNekyTeqyafM"
      },
      "execution_count": null,
      "outputs": []
    },
    {
      "cell_type": "code",
      "source": [
        "poland = df_teams[df_teams.wyId == 13869].wyId\n",
        "poland"
      ],
      "metadata": {
        "id": "zcbe3NXTHnpt"
      },
      "execution_count": null,
      "outputs": []
    },
    {
      "cell_type": "code",
      "source": [],
      "metadata": {
        "id": "fcHj0w6CQSBG"
      },
      "execution_count": null,
      "outputs": []
    },
    {
      "cell_type": "code",
      "source": [
        "polish_matches = df_matches[df_matches['teamsData'].apply(lambda x: '13869' in x.keys())]\n",
        "polish_matches_list = list(polish_matches.wyId)\n",
        "polish_matches\n"
      ],
      "metadata": {
        "id": "HSW5EilKI9MK"
      },
      "execution_count": null,
      "outputs": []
    },
    {
      "cell_type": "code",
      "source": [
        "path = \"/content/drive/MyDrive/Colab Notebooks/Football_Analytics/Learning/wyscout/events/events_World_Cup.json\"\n",
        "\n",
        "with open(path) as f:\n",
        "    data = json.load(f)\n",
        "#save it in a dataframe\n",
        "world_cup_events = pd.DataFrame(data)\n",
        "#structure of data\n",
        "polish_matches_events = world_cup_events[world_cup_events.matchId.isin(polish_matches_list)]"
      ],
      "metadata": {
        "id": "EMe1jr_PMLMr"
      },
      "execution_count": null,
      "outputs": []
    },
    {
      "cell_type": "code",
      "source": [
        "path = \"/content/drive/MyDrive/Colab Notebooks/Football_Analytics/Learning/wyscout/players.json\"\n",
        "\n",
        "with open(path, encoding='iso8859_2') as f:\n",
        "    data = json.load(f)\n",
        "#save it in a dataframe\n",
        "players_world_cup = pd.DataFrame(data)\n",
        "#structure of data\n",
        "polish_players_wc  = players_world_cup[players_world_cup['passportArea'].apply(lambda x: x['name']) == 'Poland']\n",
        "polish_players_wc.head()\n",
        "\n",
        "polish_players = polish_players_wc[['shortName', 'wyId', 'foot', 'lastName']].rename(columns={\"wyId\": \"playerId\"})"
      ],
      "metadata": {
        "id": "bXN8aMxjSY01"
      },
      "execution_count": null,
      "outputs": []
    },
    {
      "cell_type": "code",
      "source": [
        "polish_matches_events"
      ],
      "metadata": {
        "id": "gWxuy9aubLZ7"
      },
      "execution_count": null,
      "outputs": []
    },
    {
      "cell_type": "code",
      "source": [
        "polish_matches"
      ],
      "metadata": {
        "id": "DlXjYuSybXHa"
      },
      "execution_count": null,
      "outputs": []
    },
    {
      "cell_type": "code",
      "source": [],
      "metadata": {
        "id": "Q3LTzoD9b2hS"
      },
      "execution_count": null,
      "outputs": []
    },
    {
      "cell_type": "code",
      "source": [
        "polish_matches"
      ],
      "metadata": {
        "id": "zLJvQjIXcGJU"
      },
      "execution_count": null,
      "outputs": []
    },
    {
      "cell_type": "markdown",
      "source": [
        "# **Analyzing**"
      ],
      "metadata": {
        "id": "VGcPOyFbM9hk"
      }
    },
    {
      "cell_type": "code",
      "source": [
        "#Data Cleaning\n",
        "\n",
        "#matches_events\n",
        "polish_matches_events[['y', 'x', 'end_y', 'end_x']] = polish_matches_events['positions'].apply(lambda x: pd.Series({'y': x[0]['y'], 'x': x[0]['x'], 'end_y': x[1]['y'], 'end_x': x[1]['x']}))\n",
        "polish_matches_events = polish_matches_events.drop(columns=['positions'], axis=1)\n",
        "polish_matches_events = polish_matches_events.set_index('id')\n",
        "\n",
        "#players_info\n",
        "\n",
        "# extract players info\n",
        "# extract players info\n",
        "players_info = []\n",
        "for match_id, team_data in zip(polish_matches['wyId'], polish_matches['teamsData']):\n",
        "    for team_id, team_info in team_data.items():\n",
        "        for player_info in team_info['formation']['lineup']:\n",
        "            player_info['teamId'] = team_id\n",
        "            player_info['inFormation'] = True\n",
        "            player_info['sub'] = False\n",
        "            player_info['minute'] = None\n",
        "            player_info['playerIn'] = ''\n",
        "            player_info['playerOut'] = ''\n",
        "            player_info['matchId'] = match_id\n",
        "            players_info.append(player_info)\n",
        "        for player_info in team_info['formation']['bench']:\n",
        "            player_info['teamId'] = team_id\n",
        "            player_info['inFormation'] = False\n",
        "            player_info['sub'] = False\n",
        "            player_info['minute'] = None\n",
        "            player_info['playerIn'] = ''\n",
        "            player_info['playerOut'] = ''\n",
        "            player_info['matchId'] = match_id\n",
        "            players_info.append(player_info)\n",
        "        for sub_info in team_info['formation']['substitutions']:\n",
        "            player_in = [p for p in players_info if p['playerId'] == sub_info['playerIn']][0]\n",
        "            player_out = [p for p in players_info if p['playerId'] == sub_info['playerOut']][0]\n",
        "            player_out['sub'] = True\n",
        "            player_out['minute'] = sub_info['minute']\n",
        "            player_out['playerIn'] = sub_info['playerIn']\n",
        "            player_out['playerOut'] = sub_info['playerOut']\n",
        "            player_out['matchId'] = match_id\n",
        "            player_in['inFormation'] = False\n",
        "            player_in['sub'] = True\n",
        "            player_in['minute'] = sub_info['minute']\n",
        "            player_in['playerIn'] = sub_info['playerIn']\n",
        "            player_in['playerOut'] = sub_info['playerOut']\n",
        "            player_in['matchId'] = match_id\n",
        "\n",
        "# create a DataFrame from the players info\n",
        "players_df = pd.DataFrame(players_info)\n",
        "\n",
        "# select the desired columns\n",
        "players_df = players_df[['matchId', 'teamId', 'playerId', 'inFormation', 'sub', 'minute', 'playerIn', 'playerOut']]\n",
        "\n",
        "# print the DataFrame\n",
        "polish_players = pd.merge(players_df, polish_players, on='playerId', how='left')\n",
        "\n",
        "\n",
        "#matches_info\n",
        "\n",
        "polish_matches = polish_matches[['wyId', 'label']].rename(columns={\"wyId\": \"matchId\"})\n",
        "\n",
        "polish_matches_events = polish_matches_events.merge(polish_matches, on='matchId', how='left')\n",
        "\n",
        "# Convert the 'tags' column to a list of tag IDs\n",
        "polish_matches_events['tags'] = polish_matches_events['tags'].apply(lambda tag_list: [tag['id'] for tag in tag_list])\n",
        "\n",
        "# One-hot encode the tag IDs using MultiLabelBinarizer\n",
        "mlb = MultiLabelBinarizer()\n",
        "tags_dummies = pd.DataFrame(mlb.fit_transform(polish_matches_events['tags']), columns=mlb.classes_, index=polish_matches_events.index)\n",
        "\n",
        "# Create a mapping of tag IDs to labels\n",
        "id_to_label = tags.set_index('Tag')['Label'].to_dict()\n",
        "\n",
        "# Rename the columns of tags_dummies using the id_to_label mapping\n",
        "tags_dummies.columns = tags_dummies.columns.map(id_to_label)\n",
        "\n",
        "# Merge the one-hot encoded DataFrame with the original polish_matches_events dataset\n",
        "polish_matches_events = pd.concat([polish_matches_events, tags_dummies], axis=1)\n",
        "\n",
        "# Drop the original 'tags' column\n",
        "polish_matches_events = polish_matches_events.drop(columns=['tags'])\n",
        "\n",
        "polish_matches_events.head()\n"
      ],
      "metadata": {
        "id": "uzllVqX8OEzF"
      },
      "execution_count": null,
      "outputs": []
    },
    {
      "cell_type": "code",
      "source": [
        "polish_players.head()"
      ],
      "metadata": {
        "id": "fCDbRlRIcvNK"
      },
      "execution_count": null,
      "outputs": []
    },
    {
      "cell_type": "code",
      "source": [
        "polish_matches_events.head()"
      ],
      "metadata": {
        "id": "2rmNvqqpdhq4"
      },
      "execution_count": null,
      "outputs": []
    },
    {
      "cell_type": "markdown",
      "source": [
        "Analyzing shots of the polish team in three matches"
      ],
      "metadata": {
        "id": "Tokdzc_bdXzo"
      }
    },
    {
      "cell_type": "code",
      "source": [
        "polish_players_names = polish_players.loc[:, ['playerId', 'lastName']].drop_duplicates(subset=['playerId', 'lastName'])\n",
        "polish_players_names"
      ],
      "metadata": {
        "id": "2ykoczvmeah7"
      },
      "execution_count": null,
      "outputs": []
    },
    {
      "cell_type": "code",
      "source": [
        "df = polish_matches_events[(polish_matches_events.eventName=='Shot') & (polish_matches_events.teamId == 13869)].rename(columns={'label': 'matchName'})\n",
        "df = pd.merge(df, polish_players_names, on='playerId')\n",
        "df.head()\n",
        "\n",
        "\n",
        "# Define a custom function to determine the shot outcome\n",
        "def shot_outcome(row):\n",
        "    if row['Goal'] == 1:\n",
        "        return 'Goal'\n",
        "    elif row['accurate'] == 1:\n",
        "        return 'Accurate'\n",
        "    elif row['not accurate'] == 1:\n",
        "        return 'Missed'\n",
        "\n",
        "# Apply the custom function to create the 'shot_outcome' column\n",
        "df['shot_outcome'] = df.apply(shot_outcome, axis=1)\n",
        "\n",
        "df.head()\n",
        "\n",
        "\n"
      ],
      "metadata": {
        "id": "BMC3RaYbdXIJ"
      },
      "execution_count": null,
      "outputs": []
    },
    {
      "cell_type": "code",
      "source": [
        "df[['Goal', 'accurate', 'not accurate']]"
      ],
      "metadata": {
        "id": "zeRO1yP8dpi-"
      },
      "execution_count": null,
      "outputs": []
    },
    {
      "cell_type": "code",
      "source": [
        "for i in df.matchId.unique():\n",
        "  plot_df = df[(df.matchId == i)]\n",
        "  pitch = Pitch(line_zorder=2, line_color=\"black\")\n",
        "  fig, ax = pitch.draw(figsize=(12, 8))\n",
        "  # Size of the pitch in yards (!!!)\n",
        "  pitchLengthX = 120\n",
        "  pitchWidthY = 80\n",
        "  # Standardize the 'x' and 'y' values\n",
        "  plot_df['x_standardized'] = plot_df['x'] / 100 * pitchLengthX\n",
        "  plot_df['y_standardized'] = plot_df['y'] / 100 * pitchWidthY\n",
        "# Plot the shots by looping through them.\n",
        "  for i, shot in plot_df.iterrows():\n",
        "      # Get the information\n",
        "      x = shot['x_standardized']\n",
        "      y = shot['y_standardized']\n",
        "      # Set circle size\n",
        "      # Set circle size\n",
        "      circleSize = 2\n",
        "\n",
        "      # Set color based on shot outcome\n",
        "      if shot.shot_outcome == 'Goal':\n",
        "          pitch.scatter(x, y, alpha=1, s=500, color='green', ax=ax)\n",
        "          pitch.annotate(shot[\"lastName\"], (x + 1, y - 2), ax=ax, fontsize=12)\n",
        "      elif shot.shot_outcome == 'Accurate':\n",
        "          pitch.scatter(x, y, alpha=1, s=500, color='blue', ax=ax)\n",
        "          pitch.annotate(shot[\"lastName\"], (x + 1, y - 2), ax=ax, fontsize=12)\n",
        "      elif shot.shot_outcome == 'Missed':\n",
        "          pitch.scatter(x, y, alpha=1, s=500, color='red', ax=ax)\n",
        "          pitch.annotate(shot[\"lastName\"], (x + 1, y - 2), ax=ax, fontsize=12)\n",
        "\n",
        "  # Create legend\n",
        "  goal_legend = plt.Line2D([0], [0], color=\"green\", lw=4)\n",
        "  accurate_legend = plt.Line2D([0], [0], color=\"blue\", lw=4)\n",
        "  missed_legend = plt.Line2D([0], [0], color=\"red\", lw=4)\n",
        "  ax.legend([goal_legend, accurate_legend, missed_legend], ['Goal', 'Accurate', 'Missed'], loc='upper right')\n",
        "\n",
        "  # Set title\n",
        "  match_name = plot_df['matchName'].iloc[0]  # Get the match name from the first row of plot_df\n",
        "  fig.suptitle(match_name, fontsize=24)\n",
        "  fig.set_size_inches(12, 8)\n",
        "  plt.show()\n"
      ],
      "metadata": {
        "id": "dNkdiyeZjeqY"
      },
      "execution_count": null,
      "outputs": []
    },
    {
      "cell_type": "code",
      "source": [],
      "metadata": {
        "id": "Kudu0zt7j1dV"
      },
      "execution_count": null,
      "outputs": []
    },
    {
      "cell_type": "markdown",
      "source": [
        "TODO:\n",
        "- Podzielic na polowy (1 i druga)"
      ],
      "metadata": {
        "id": "hOeZm-S0u8v_"
      }
    }
  ]
}