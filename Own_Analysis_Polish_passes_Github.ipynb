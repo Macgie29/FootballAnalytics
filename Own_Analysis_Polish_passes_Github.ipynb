{
  "nbformat": 4,
  "nbformat_minor": 0,
  "metadata": {
    "colab": {
      "provenance": [],
      "private_outputs": true,
      "machine_shape": "hm",
      "mount_file_id": "1xeMp8jVjKpM8zDagyazPixwq_EbKsJrC",
      "authorship_tag": "ABX9TyOv/NJPcskmdiIibW/EbOm2",
      "include_colab_link": true
    },
    "kernelspec": {
      "name": "python3",
      "display_name": "Python 3"
    },
    "language_info": {
      "name": "python"
    },
    "gpuClass": "premium"
  },
  "cells": [
    {
      "cell_type": "markdown",
      "metadata": {
        "id": "view-in-github",
        "colab_type": "text"
      },
      "source": [
        "<a href=\"https://colab.research.google.com/github/Macgie29/FootballAnalytics/blob/main/Own_Analysis_Polish_passes_Github.ipynb\" target=\"_parent\"><img src=\"https://colab.research.google.com/assets/colab-badge.svg\" alt=\"Open In Colab\"/></a>"
      ]
    },
    {
      "cell_type": "code",
      "execution_count": null,
      "metadata": {
        "id": "2bWL5TyIyDGo"
      },
      "outputs": [],
      "source": [
        "from google.colab import drive\n",
        "drive.mount('/content/drive')"
      ]
    },
    {
      "cell_type": "code",
      "source": [
        "!pip install mplsoccer"
      ],
      "metadata": {
        "id": "oG33pBnmKhyx"
      },
      "execution_count": null,
      "outputs": []
    },
    {
      "cell_type": "code",
      "source": [
        "#importing necessary libraries\n",
        "import pathlib\n",
        "import os\n",
        "import pandas as pd\n",
        "import json\n",
        "\n",
        "from sklearn.preprocessing import MultiLabelBinarizer\n",
        "\n",
        "import matplotlib.pyplot as plt\n",
        "import numpy as np\n",
        "from mplsoccer import Pitch, Sbopen, VerticalPitch"
      ],
      "metadata": {
        "id": "r4wALIk37nLV"
      },
      "execution_count": null,
      "outputs": []
    },
    {
      "cell_type": "markdown",
      "source": [
        "# New section"
      ],
      "metadata": {
        "id": "2q7z5u4gYuOQ"
      }
    },
    {
      "cell_type": "code",
      "source": [
        "tags = pd.read_csv('/content/drive/MyDrive/Colab Notebooks/Football_Analytics/Learning/wyscout/tags2name.csv')\n",
        "events_name = pd.read_csv('/content/drive/MyDrive/Colab Notebooks/Football_Analytics/Learning/wyscout/eventid2name.csv')\n",
        "tags.head()"
      ],
      "metadata": {
        "id": "cUO-2mhcnhXb"
      },
      "execution_count": null,
      "outputs": []
    },
    {
      "cell_type": "code",
      "source": [
        "path = \"/content/drive/MyDrive/Colab Notebooks/Football_Analytics/Learning/wyscout/matches/matches_World_Cup.json\"\n",
        "\n",
        "with open(path) as f:\n",
        "    data = json.load(f)\n",
        "#save it in a dataframe\n",
        "df_matches = pd.DataFrame(data)\n",
        "#structure of data\n",
        "df_matches.head()"
      ],
      "metadata": {
        "id": "kIFHqzT3yJXU"
      },
      "execution_count": null,
      "outputs": []
    },
    {
      "cell_type": "code",
      "source": [
        "path = \"/content/drive/MyDrive/Colab Notebooks/Football_Analytics/Learning/wyscout/teams.json\"\n",
        "\n",
        "with open(path) as f:\n",
        "    data = json.load(f)\n",
        "#save it in a dataframe\n",
        "df_teams = pd.DataFrame(data)\n",
        "#structure of data\n",
        "df_teams.head()"
      ],
      "metadata": {
        "id": "ZNekyTeqyafM"
      },
      "execution_count": null,
      "outputs": []
    },
    {
      "cell_type": "code",
      "source": [
        "poland = df_teams[df_teams.wyId == 13869].wyId\n",
        "poland.head()"
      ],
      "metadata": {
        "id": "zcbe3NXTHnpt"
      },
      "execution_count": null,
      "outputs": []
    },
    {
      "cell_type": "code",
      "source": [
        "polish_matches = df_matches[df_matches['teamsData'].apply(lambda x: '13869' in x.keys())]\n",
        "polish_matches_list = list(polish_matches.wyId)\n",
        "polish_matches.head()\n"
      ],
      "metadata": {
        "id": "HSW5EilKI9MK"
      },
      "execution_count": null,
      "outputs": []
    },
    {
      "cell_type": "code",
      "source": [
        "path = \"/content/drive/MyDrive/Colab Notebooks/Football_Analytics/Learning/wyscout/events/events_World_Cup.json\"\n",
        "\n",
        "with open(path) as f:\n",
        "    data = json.load(f)\n",
        "#save it in a dataframe\n",
        "world_cup_events = pd.DataFrame(data)\n",
        "#structure of data\n",
        "polish_matches_events = world_cup_events[world_cup_events.matchId.isin(polish_matches_list)]\n",
        "polish_matches_events.head()"
      ],
      "metadata": {
        "id": "EMe1jr_PMLMr"
      },
      "execution_count": null,
      "outputs": []
    },
    {
      "cell_type": "code",
      "source": [
        "path = \"/content/drive/MyDrive/Colab Notebooks/Football_Analytics/Learning/wyscout/players.json\"\n",
        "\n",
        "with open(path, encoding='iso8859_2') as f:\n",
        "    data = json.load(f)\n",
        "#save it in a dataframe\n",
        "players_world_cup = pd.DataFrame(data)\n",
        "#structure of data\n",
        "polish_players_wc  = players_world_cup[players_world_cup['passportArea'].apply(lambda x: x['name']) == 'Poland']\n",
        "\n",
        "polish_players = polish_players_wc[['shortName', 'wyId', 'foot', 'lastName']].rename(columns={\"wyId\": \"playerId\"})\n",
        "polish_players.head()"
      ],
      "metadata": {
        "id": "bXN8aMxjSY01"
      },
      "execution_count": null,
      "outputs": []
    },
    {
      "cell_type": "markdown",
      "source": [
        "# **Analyzing**"
      ],
      "metadata": {
        "id": "VGcPOyFbM9hk"
      }
    },
    {
      "cell_type": "code",
      "source": [
        "#Data Cleaning\n",
        "\n",
        "#matches_events\n",
        "polish_matches_events[['y', 'x', 'end_y', 'end_x']] = polish_matches_events['positions'].apply(lambda x: pd.Series({'y': x[0]['y'], 'x': x[0]['x'], 'end_y': x[1]['y'], 'end_x': x[1]['x']}))\n",
        "polish_matches_events = polish_matches_events.drop(columns=['positions'], axis=1)\n",
        "polish_matches_events = polish_matches_events.set_index('id')\n",
        "\n",
        "#players_info\n",
        "\n",
        "# extract players info\n",
        "players_info = []\n",
        "for match_id, team_data in zip(polish_matches['wyId'], polish_matches['teamsData']):\n",
        "    for team_id, team_info in team_data.items():\n",
        "        for player_info in team_info['formation']['lineup']:\n",
        "            player_info['teamId'] = team_id\n",
        "            player_info['inFormation'] = True\n",
        "            player_info['sub'] = False\n",
        "            player_info['minute'] = None\n",
        "            player_info['playerIn'] = ''\n",
        "            player_info['playerOut'] = ''\n",
        "            player_info['matchId'] = match_id\n",
        "            players_info.append(player_info)\n",
        "        for player_info in team_info['formation']['bench']:\n",
        "            player_info['teamId'] = team_id\n",
        "            player_info['inFormation'] = False\n",
        "            player_info['sub'] = False\n",
        "            player_info['minute'] = None\n",
        "            player_info['playerIn'] = ''\n",
        "            player_info['playerOut'] = ''\n",
        "            player_info['matchId'] = match_id\n",
        "            players_info.append(player_info)\n",
        "        for sub_info in team_info['formation']['substitutions']:\n",
        "            player_in = [p for p in players_info if p['playerId'] == sub_info['playerIn']][0]\n",
        "            player_out = [p for p in players_info if p['playerId'] == sub_info['playerOut']][0]\n",
        "            player_out['sub'] = True\n",
        "            player_out['minute'] = sub_info['minute']\n",
        "            player_out['playerIn'] = sub_info['playerIn']\n",
        "            player_out['playerOut'] = sub_info['playerOut']\n",
        "            player_out['matchId'] = match_id\n",
        "            player_in['inFormation'] = False\n",
        "            player_in['sub'] = True\n",
        "            player_in['minute'] = sub_info['minute']\n",
        "            player_in['playerIn'] = sub_info['playerIn']\n",
        "            player_in['playerOut'] = sub_info['playerOut']\n",
        "            player_in['matchId'] = match_id\n",
        "\n",
        "# create a DataFrame from the players info\n",
        "players_df = pd.DataFrame(players_info)\n",
        "\n",
        "# select the desired columns\n",
        "players_df = players_df[['matchId', 'teamId', 'playerId', 'inFormation', 'sub', 'minute', 'playerIn', 'playerOut']]\n",
        "\n",
        "# print the DataFrame\n",
        "polish_players = pd.merge(players_df, polish_players, on='playerId', how='left')\n",
        "\n",
        "# filter only players for polish team\n",
        "polish_players = polish_players[polish_players.teamId == '13869']\n",
        "\n",
        "def decode_name(name):\n",
        "    if isinstance(name, str):\n",
        "        return name.encode('latin1').decode('unicode_escape')\n",
        "    return name\n",
        "\n",
        "polish_players['lastName'] = polish_players['lastName'].apply(decode_name)\n",
        "\n",
        "#matches_info\n",
        "\n",
        "polish_matches = polish_matches[['wyId', 'label']].rename(columns={\"wyId\": \"matchId\"})\n",
        "\n",
        "polish_matches_events = polish_matches_events.merge(polish_matches, on='matchId', how='left')\n",
        "\n",
        "# Convert the 'tags' column to a list of tag IDs\n",
        "polish_matches_events['tags'] = polish_matches_events['tags'].apply(lambda tag_list: [tag['id'] for tag in tag_list])\n",
        "\n",
        "# One-hot encode the tag IDs using MultiLabelBinarizer\n",
        "mlb = MultiLabelBinarizer()\n",
        "tags_dummies = pd.DataFrame(mlb.fit_transform(polish_matches_events['tags']), columns=mlb.classes_, index=polish_matches_events.index)\n",
        "\n",
        "# Create a mapping of tag IDs to labels\n",
        "id_to_label = tags.set_index('Tag')['Label'].to_dict()\n",
        "\n",
        "# Rename the columns of tags_dummies using the id_to_label mapping\n",
        "tags_dummies.columns = tags_dummies.columns.map(id_to_label)\n",
        "\n",
        "# Merge the one-hot encoded DataFrame with the original polish_matches_events dataset\n",
        "polish_matches_events = pd.concat([polish_matches_events, tags_dummies], axis=1)\n",
        "\n",
        "# Drop the original 'tags' column\n",
        "polish_matches_events = polish_matches_events.drop(columns=['tags'])\n",
        "\n",
        "polish_matches_events.head()\n"
      ],
      "metadata": {
        "id": "uzllVqX8OEzF"
      },
      "execution_count": null,
      "outputs": []
    },
    {
      "cell_type": "markdown",
      "source": [
        "Analyzing shots of the polish team in three matches"
      ],
      "metadata": {
        "id": "Tokdzc_bdXzo"
      }
    },
    {
      "cell_type": "code",
      "source": [
        "polish_players_names = polish_players.loc[:, ['playerId', 'lastName']].drop_duplicates(subset=['playerId', 'lastName'])\n",
        "polish_players_names.head()"
      ],
      "metadata": {
        "id": "2ykoczvmeah7"
      },
      "execution_count": null,
      "outputs": []
    },
    {
      "cell_type": "code",
      "source": [
        "polish_players.head()"
      ],
      "metadata": {
        "id": "gkU6BWFXWgtK"
      },
      "execution_count": null,
      "outputs": []
    },
    {
      "cell_type": "code",
      "source": [
        "df = polish_matches_events[(polish_matches_events.eventName=='Shot') & (polish_matches_events.teamId == 13869)].rename(columns={'label': 'matchName'})\n",
        "df = pd.merge(df, polish_players_names, on='playerId')\n",
        "df.head()\n",
        "\n",
        "\n",
        "# Define a custom function to determine the shot outcome\n",
        "def shot_outcome(row):\n",
        "    if row['Goal'] == 1:\n",
        "        return 'Goal'\n",
        "    elif row['accurate'] == 1:\n",
        "        return 'Accurate'\n",
        "    elif row['not accurate'] == 1:\n",
        "        return 'Missed'\n",
        "\n",
        "# Apply the custom function to create the 'shot_outcome' column\n",
        "df['shot_outcome'] = df.apply(shot_outcome, axis=1)\n",
        "\n",
        "df.head()\n",
        "\n",
        "\n"
      ],
      "metadata": {
        "id": "BMC3RaYbdXIJ"
      },
      "execution_count": null,
      "outputs": []
    },
    {
      "cell_type": "code",
      "source": [
        "plot_df = df[(df.matchId == 2057996)].copy()\n",
        "pitch = Pitch(line_zorder=2, line_color=\"black\")\n",
        "fig, ax = pitch.draw(figsize=(12, 8))\n",
        "# Size of the pitch in yards\n",
        "pitchLengthX = 120\n",
        "pitchWidthY = 80\n",
        "# Standardize the 'x' and 'y' values\n",
        "plot_df['x_standardized'] = plot_df['x'] / 100 * pitchLengthX\n",
        "plot_df['y_standardized'] = plot_df['y'] / 100 * pitchWidthY\n",
        "# Plot the shots by looping through them.\n",
        "for i, shot in plot_df.iterrows():\n",
        "    # Get the information\n",
        "    x = shot['x_standardized']\n",
        "    y = shot['y_standardized']\n",
        "    # Set circle size\n",
        "    circleSize = 2\n",
        "\n",
        "    # Set color based on shot outcome\n",
        "    if shot.shot_outcome == 'Goal':\n",
        "        pitch.scatter(x, y, alpha=1, s=500, color='green', ax=ax)\n",
        "        pitch.annotate(shot[\"lastName\"], (x + 1, y - 2), ax=ax, fontsize=12)\n",
        "    elif shot.shot_outcome == 'Accurate':\n",
        "        pitch.scatter(x, y, alpha=1, s=500, color='blue', ax=ax)\n",
        "        pitch.annotate(shot[\"lastName\"], (x + 1, y - 2), ax=ax, fontsize=12)\n",
        "    elif shot.shot_outcome == 'Missed':\n",
        "        pitch.scatter(x, y, alpha=1, s=500, color='red', ax=ax)\n",
        "        pitch.annotate(shot[\"lastName\"], (x + 1, y - 2), ax=ax, fontsize=12)\n",
        "\n",
        "# Create legend\n",
        "goal_legend = plt.Line2D([0], [0], color=\"green\", lw=4)\n",
        "accurate_legend = plt.Line2D([0], [0], color=\"blue\", lw=4)\n",
        "missed_legend = plt.Line2D([0], [0], color=\"red\", lw=4)\n",
        "ax.legend([goal_legend, accurate_legend, missed_legend], ['Goal', 'Accurate', 'Missed'], loc='upper right')\n",
        "\n",
        "# Set title\n",
        "match_name = plot_df['matchName'].iloc[0]  # Get the match name from the first row of plot_df\n",
        "fig.suptitle(match_name, fontsize=24)\n",
        "fig.set_size_inches(12, 8)\n",
        "plt.show()\n",
        "file_name = '{}_plot.jpg'.format(match_name)\n",
        "plt.savefig(file_name)\n",
        "\n"
      ],
      "metadata": {
        "id": "dNkdiyeZjeqY"
      },
      "execution_count": null,
      "outputs": []
    },
    {
      "cell_type": "markdown",
      "source": [
        "### **Passes**"
      ],
      "metadata": {
        "id": "y4ADDv169CRl"
      }
    },
    {
      "cell_type": "code",
      "source": [
        "df = polish_matches_events[(polish_matches_events.eventName=='Pass') & (polish_matches_events.teamId == 13869)].rename(columns={'label': 'matchName'})\n",
        "df = pd.merge(df, polish_players_names, on='playerId')\n",
        "df.head()"
      ],
      "metadata": {
        "id": "10fsywK38aYc"
      },
      "execution_count": null,
      "outputs": []
    },
    {
      "cell_type": "code",
      "source": [
        "#prepare the dataframe of passes by England that were no-throw ins\n",
        "mask_poland = (df.subEventName != \"Throw-in\") & (df.matchId == 2057996)\n",
        "df_passes = df.loc[mask_poland, ['x', 'y', 'end_x', 'end_y', 'lastName', 'accurate']]\n",
        "#get the list of all players who made a pass\n",
        "names = df_passes['lastName'].unique()\n",
        "\n",
        "#draw 4x4 pitches\n",
        "pitchLengthX = 120\n",
        "pitchWidthY = 80\n",
        "pitch = Pitch(line_color='black', pad_top=20, pitch_length=pitchLengthX, pitch_width=pitchWidthY)\n",
        "\n",
        "fig, axs = pitch.grid(ncols=4, nrows=4, grid_height=0.85, title_height=0.06, axis=False,\n",
        "                      endnote_height=0.04, title_space=0.04, endnote_space=0.01)\n",
        "\n",
        "#standarize x and y\n",
        "df_passes['x'] = df_passes['x'] / 100 * pitchLengthX\n",
        "df_passes['y'] = df_passes['y'] / 100 * pitchWidthY\n",
        "df_passes['end_x'] = df_passes['end_x'] / 100 * pitchLengthX\n",
        "df_passes['end_y'] = df_passes['end_y'] / 100 * pitchWidthY\n",
        "\n",
        "#for each player\n",
        "for name, ax in zip(names, axs['pitch'].flat[:len(names)]):\n",
        "    player_df = df_passes.loc[df_passes[\"lastName\"] == name]\n",
        "\n",
        "    # Calculate the share of accurate passes\n",
        "    total_passes = len(player_df)\n",
        "    accurate_passes = len(player_df[player_df['accurate'] == 1])\n",
        "    accuracy_share = accurate_passes / total_passes * 100\n",
        "    \n",
        "    # Put player name and accuracy share over the plot\n",
        "    ax.text(60, -10, f\"{name} ({accuracy_share:.1f}%)\", ha='center', va='center', fontsize=14)\n",
        "    \n",
        "    # Plot arrow and scatter\n",
        "    for idx, row in player_df.iterrows():\n",
        "        arrow_color = \"green\" if row['accurate'] == 1 else \"red\"\n",
        "        pitch.arrows(row.x, row.y,\n",
        "                     row.end_x, row.end_y, color=arrow_color, ax=ax, width=1)\n",
        "        pitch.scatter(row.x, row.y, alpha=0.2, s=50, color=arrow_color, ax=ax)\n",
        "\n",
        "#We have more than enough pitches - remove them\n",
        "for ax in axs['pitch'][-1, 16 - len(names):]:\n",
        "    ax.remove()\n",
        "\n",
        "#Another way to set title using mplsoccer\n",
        "axs['title'].text(0.5, 0.5, 'Polish passes against Senegal', ha='center', va='center', fontsize=30)\n",
        "plt.show()\n",
        "plt.savefig('Polish_passes.jpg')\n"
      ],
      "metadata": {
        "id": "_O8qZ1ec9NRe"
      },
      "execution_count": null,
      "outputs": []
    },
    {
      "cell_type": "markdown",
      "source": [
        "### Offensive Passes"
      ],
      "metadata": {
        "id": "e75XekJtIJmW"
      }
    },
    {
      "cell_type": "code",
      "source": [
        "#prepare the dataframe of passes by England that were no-throw ins\n",
        "mask_poland = (df.subEventName != \"Throw-in\") & (df.matchId == 2057996)\n",
        "df_passes = df.loc[mask_poland, ['x', 'y', 'end_x', 'end_y', 'lastName', 'accurate']]\n",
        "df_passes = df_passes[df_passes.end_x > df_passes.x]\n",
        "\n",
        "#get the list of all players who made a pass\n",
        "names = df_passes['lastName'].unique()\n",
        "\n",
        "#draw 4x4 pitches\n",
        "pitchLengthX = 120\n",
        "pitchWidthY = 80\n",
        "pitch = Pitch(line_color='black', pad_top=20, pitch_length=pitchLengthX, pitch_width=pitchWidthY)\n",
        "\n",
        "fig, axs = pitch.grid(ncols=4, nrows=4, grid_height=0.85, title_height=0.06, axis=False,\n",
        "                      endnote_height=0.04, title_space=0.04, endnote_space=0.01)\n",
        "\n",
        "#standarize x and y\n",
        "df_passes['x'] = df_passes['x'] / 100 * pitchLengthX\n",
        "df_passes['y'] = df_passes['y'] / 100 * pitchWidthY\n",
        "df_passes['end_x'] = df_passes['end_x'] / 100 * pitchLengthX\n",
        "df_passes['end_y'] = df_passes['end_y'] / 100 * pitchWidthY\n",
        "\n",
        "#for each player\n",
        "for name, ax in zip(names, axs['pitch'].flat[:len(names)]):\n",
        "    player_df = df_passes.loc[df_passes[\"lastName\"] == name]\n",
        "\n",
        "    # Calculate the share of accurate passes\n",
        "    total_passes = len(player_df)\n",
        "    accurate_passes = len(player_df[player_df['accurate'] == 1])\n",
        "    accuracy_share = accurate_passes / total_passes * 100\n",
        "    \n",
        "    # Put player name and accuracy share over the plot\n",
        "    ax.text(60, -10, f\"{name} ({accuracy_share:.1f}%)\", ha='center', va='center', fontsize=14)\n",
        "    \n",
        "    # Plot arrow and scatter\n",
        "    for idx, row in player_df.iterrows():\n",
        "        arrow_color = \"green\" if row['accurate'] == 1 else \"red\"\n",
        "        pitch.arrows(row.x, row.y,\n",
        "                     row.end_x, row.end_y, color=arrow_color, ax=ax, width=1)\n",
        "        pitch.scatter(row.x, row.y, alpha=0.2, s=50, color=arrow_color, ax=ax)\n",
        "\n",
        "#We have more than enough pitches - remove them\n",
        "for ax in axs['pitch'][-1, 16 - len(names):]:\n",
        "    ax.remove()\n",
        "\n",
        "#Another way to set title using mplsoccer\n",
        "axs['title'].text(0.5, 0.5, 'Polish offensive passes against Senegal', ha='center', va='center', fontsize=30)\n",
        "plt.show()\n",
        "plt.savefig('Polish_offensive_passes.jpg')\n"
      ],
      "metadata": {
        "id": "YgFyyqY2ILPw"
      },
      "execution_count": null,
      "outputs": []
    },
    {
      "cell_type": "markdown",
      "source": [
        "### **Polish Passing network**"
      ],
      "metadata": {
        "id": "znUJ1xLCJvYu"
      }
    },
    {
      "cell_type": "code",
      "source": [
        "df = polish_matches_events[(polish_matches_events.matchId == 2057996) & (polish_matches_events.teamId == 13869) & (polish_matches_events.eventName == 'Pass') & (polish_matches_events.matchPeriod == '1H')].rename(columns={'label': 'matchName'})\n",
        "df['next_player'] = df['playerId'].shift(-1)\n",
        "df.loc[df['accurate'] != 1, 'next_player'] = None\n",
        "df = df[df['next_player'].notnull()]\n",
        "df = df[['playerId','x', 'y', 'end_x', 'end_y', 'eventSec', 'next_player']]\n",
        "\n",
        "df.head()"
      ],
      "metadata": {
        "id": "3SEqO9QfJ0BU"
      },
      "execution_count": null,
      "outputs": []
    },
    {
      "cell_type": "code",
      "source": [
        "polish_sen = polish_players[(polish_players.matchId == 2057996) & (polish_players.teamId == '13869')]\n",
        "polish_sen = polish_sen[['playerId', 'minute', 'lastName']]\n",
        "players = polish_sen[['playerId', 'lastName']].drop_duplicates()\n",
        "players.head()"
      ],
      "metadata": {
        "id": "k0xKWKtdNhBt"
      },
      "execution_count": null,
      "outputs": []
    },
    {
      "cell_type": "code",
      "source": [
        "merged_df = df.merge(players, left_on='playerId', right_on='playerId', how='left')\n",
        "merged_df = merged_df.merge(players, left_on='next_player', right_on='playerId', how='left', suffixes=('', '_next'))\n",
        "merged_df.drop('playerId_next', axis=1, inplace=True)\n",
        "merged_df.drop(['playerId', 'next_player', 'eventSec'], axis=1, inplace=True)\n",
        "merged_df.head()"
      ],
      "metadata": {
        "id": "jFAZm-R_PObU"
      },
      "execution_count": null,
      "outputs": []
    },
    {
      "cell_type": "code",
      "source": [
        "df_pass = merged_df.copy()\n",
        "\n",
        "pitchLengthX = 120\n",
        "pitchWidthY = 80\n",
        "\n",
        "\n",
        "df_pass['x'] = df_pass['x'] / 100 * pitchLengthX\n",
        "df_pass['y'] = df_pass['y'] / 100 * pitchWidthY\n",
        "df_pass['end_x'] = df_pass['end_x'] / 100 * pitchLengthX\n",
        "df_pass['end_y'] = df_pass['end_y'] / 100 * pitchWidthY\n",
        "\n",
        "scatter_df = pd.DataFrame()\n",
        "for i, name in enumerate(df_pass[\"lastName\"].unique()):\n",
        "    passx = df_pass.loc[df_pass[\"lastName\"] == name][\"x\"].to_numpy()\n",
        "    recx = df_pass.loc[df_pass[\"lastName_next\"] == name][\"end_x\"].to_numpy()\n",
        "    passy = df_pass.loc[df_pass[\"lastName\"] == name][\"y\"].to_numpy()\n",
        "    recy = df_pass.loc[df_pass[\"lastName_next\"] == name][\"end_y\"].to_numpy()\n",
        "    scatter_df.at[i, \"lastName\"] = name\n",
        "    # Make sure that x and y location for each circle representing the player is the average of passes and receptions\n",
        "    scatter_df.at[i, \"x\"] = np.mean(np.concatenate([passx, recx]))\n",
        "    scatter_df.at[i, \"y\"] = np.mean(np.concatenate([passy, recy]))\n",
        "    # Calculate number of passes\n",
        "    scatter_df.at[i, \"no\"] = df_pass.loc[df_pass[\"lastName\"] == name].count().iloc[0]\n",
        "\n",
        "# Adjust the size of a circle so that the player who made more passes\n",
        "scatter_df['marker_size'] = (scatter_df['no'] / scatter_df['no'].max() * 1500)\n",
        "scatter_df.head()"
      ],
      "metadata": {
        "id": "wGMIVRrKQWdP"
      },
      "execution_count": null,
      "outputs": []
    },
    {
      "cell_type": "code",
      "source": [
        "# Counting passes between players\n",
        "df_pass[\"pair_key\"] = df_pass.apply(lambda x: \"_\".join(sorted([x[\"lastName\"], x[\"lastName_next\"]])), axis=1)\n",
        "lines_df = df_pass.groupby([\"pair_key\"]).x.count().reset_index()\n",
        "lines_df.rename({'x':'pass_count'}, axis='columns', inplace=True)"
      ],
      "metadata": {
        "id": "fiSDGjPYRPJY"
      },
      "execution_count": null,
      "outputs": []
    },
    {
      "cell_type": "code",
      "source": [
        "# Drawing pitch\n",
        "\n",
        "pitchLengthX = 120\n",
        "pitchWidthY = 80\n",
        "pitch = Pitch(line_color='grey', pitch_length=pitchLengthX, pitch_width=pitchWidthY)\n",
        "fig, ax = pitch.grid(grid_height=0.9, title_height=0.06, axis=False,\n",
        "                     endnote_height=0.04, title_space=0, endnote_space=0)\n",
        "# Scatter the location on the pitch\n",
        "pitch.scatter(scatter_df.x, scatter_df.y, s=scatter_df.marker_size, color='red', edgecolors='grey', linewidth=1, alpha=1, ax=ax[\"pitch\"], zorder=3)\n",
        "# Annotating player name\n",
        "for i, row in scatter_df.iterrows():\n",
        "    pitch.annotate(row.lastName, xy=(row.x, row.y), c='black', va='center', ha='center', weight=\"bold\", size=16, ax=ax[\"pitch\"], zorder=4)\n",
        "\n",
        "fig.suptitle(\"Nodes location - Poland\", fontsize=30)\n",
        "plt.show()\n"
      ],
      "metadata": {
        "id": "POICJ5GWR1PM"
      },
      "execution_count": null,
      "outputs": []
    },
    {
      "cell_type": "code",
      "source": [
        "# Plot once again pitch and vertices\n",
        "pitch = Pitch(line_color='grey')\n",
        "fig, ax = pitch.grid(grid_height=0.9, title_height=0.06, axis=False,\n",
        "                     endnote_height=0.04, title_space=0, endnote_space=0)\n",
        "pitch.scatter(scatter_df.x, scatter_df.y, s=scatter_df.marker_size, color='red', edgecolors='grey', linewidth=1, alpha=1, ax=ax[\"pitch\"], zorder=3)\n",
        "for i, row in scatter_df.iterrows():\n",
        "    pitch.annotate(row.lastName, xy=(row.x, row.y), c='black', va='center', ha='center', weight=\"bold\", size=16, ax=ax[\"pitch\"], zorder=4)\n",
        "\n",
        "for i, row in lines_df.iterrows():\n",
        "    player1 = row[\"pair_key\"].split(\"_\")[0]\n",
        "    player2 = row['pair_key'].split(\"_\")[1]\n",
        "    # Take the average location of players to plot a line between them\n",
        "    player1_x = scatter_df.loc[scatter_df[\"lastName\"] == player1]['x'].iloc[0]\n",
        "    player1_y = scatter_df.loc[scatter_df[\"lastName\"] == player1]['y'].iloc[0]\n",
        "    player2_x = scatter_df.loc[scatter_df[\"lastName\"] == player2]['x'].iloc[0]\n",
        "    player2_y = scatter_df.loc[scatter_df[\"lastName\"] == player2]['y'].iloc[0]\n",
        "    num_passes = row[\"pass_count\"]\n",
        "    # Adjust the line width so that the more passes, the wider the line\n",
        "    line_width = (num_passes / lines_df['pass_count'].max() * 10)\n",
        "    # Plot lines on the pitch\n",
        "    pitch.lines(player1_x, player1_y, player2_x, player2_y,\n",
        "                alpha=1, lw=line_width, zorder=2, color=\"red\", ax=ax[\"pitch\"])\n",
        "\n",
        "fig.suptitle(\"Poland Passing Network against Senegal\", fontsize=30)\n",
        "plt.show()\n",
        "plt.savefig('Polish_Passing_Network.jpg')\n"
      ],
      "metadata": {
        "id": "UqKZcqc9SrQO"
      },
      "execution_count": null,
      "outputs": []
    },
    {
      "cell_type": "code",
      "source": [
        "#calculate number of successful passes by player\n",
        "no_passes = df_pass.groupby(['lastName']).x.count().reset_index()\n",
        "no_passes.rename({'x':'pass_count'}, axis='columns', inplace=True)\n",
        "#find one who made most passes\n",
        "max_no = no_passes[\"pass_count\"].max()\n",
        "#calculate the denominator - 10*the total sum of passes\n",
        "denominator = 10*no_passes[\"pass_count\"].sum()\n",
        "#calculate the nominator\n",
        "nominator = (max_no - no_passes[\"pass_count\"]).sum()\n",
        "#calculate the centralisation index\n",
        "centralisation_index = nominator/denominator\n",
        "print(\"Centralisation index is \", centralisation_index)"
      ],
      "metadata": {
        "id": "14-a5Wcims_k"
      },
      "execution_count": null,
      "outputs": []
    },
    {
      "cell_type": "markdown",
      "source": [
        "### **Offensive Passes Network**"
      ],
      "metadata": {
        "id": "tg6rtPWbcBXM"
      }
    },
    {
      "cell_type": "code",
      "source": [
        "df_pass = merged_df.copy()\n",
        "\n",
        "pitchLengthX = 120\n",
        "pitchWidthY = 80\n",
        "\n",
        "\n",
        "df_pass['x'] = df_pass['x'] / 100 * pitchLengthX\n",
        "df_pass['y'] = df_pass['y'] / 100 * pitchWidthY\n",
        "df_pass['end_x'] = df_pass['end_x'] / 100 * pitchLengthX\n",
        "df_pass['end_y'] = df_pass['end_y'] / 100 * pitchWidthY\n",
        "\n",
        "df_pass = df_pass[df_pass.end_x > df_pass.x]\n",
        "\n",
        "scatter_df = pd.DataFrame()\n",
        "for i, name in enumerate(df_pass[\"lastName\"].unique()):\n",
        "    passx = df_pass.loc[df_pass[\"lastName\"] == name][\"x\"].to_numpy()\n",
        "    recx = df_pass.loc[df_pass[\"lastName_next\"] == name][\"end_x\"].to_numpy()\n",
        "    passy = df_pass.loc[df_pass[\"lastName\"] == name][\"y\"].to_numpy()\n",
        "    recy = df_pass.loc[df_pass[\"lastName_next\"] == name][\"end_y\"].to_numpy()\n",
        "    scatter_df.at[i, \"lastName\"] = name\n",
        "    # Make sure that x and y location for each circle representing the player is the average of passes and receptions\n",
        "    scatter_df.at[i, \"x\"] = np.mean(np.concatenate([passx, recx]))\n",
        "    scatter_df.at[i, \"y\"] = np.mean(np.concatenate([passy, recy]))\n",
        "    # Calculate number of passes\n",
        "    scatter_df.at[i, \"no\"] = df_pass.loc[df_pass[\"lastName\"] == name].count().iloc[0]\n",
        "\n",
        "# Adjust the size of a circle so that the player who made more passes\n",
        "scatter_df['marker_size'] = (scatter_df['no'] / scatter_df['no'].max() * 1500)\n",
        "\n",
        "# Counting passes between players\n",
        "df_pass[\"pair_key\"] = df_pass.apply(lambda x: \"_\".join(sorted([x[\"lastName\"], x[\"lastName_next\"]])), axis=1)\n",
        "lines_df = df_pass.groupby([\"pair_key\"]).x.count().reset_index()\n",
        "lines_df.rename({'x':'pass_count'}, axis='columns', inplace=True)\n",
        "\n",
        "\n",
        "# Drawing pitch\n",
        "\n",
        "pitchLengthX = 120\n",
        "pitchWidthY = 80\n",
        "# pitch = Pitch(line_color='grey', pitch_length=pitchLengthX, pitch_width=pitchWidthY)\n",
        "# fig, ax = pitch.grid(grid_height=0.9, title_height=0.06, axis=False,\n",
        "#                      endnote_height=0.04, title_space=0, endnote_space=0)\n",
        "# # Scatter the location on the pitch\n",
        "# pitch.scatter(scatter_df.x, scatter_df.y, s=scatter_df.marker_size, color='red', edgecolors='grey', linewidth=1, alpha=1, ax=ax[\"pitch\"], zorder=3)\n",
        "# Annotating player name\n",
        "for i, row in scatter_df.iterrows():\n",
        "    pitch.annotate(row.lastName, xy=(row.x, row.y), c='black', va='center', ha='center', weight=\"bold\", size=16, ax=ax[\"pitch\"], zorder=4)\n",
        "\n",
        "# Plot once again pitch and vertices\n",
        "pitch = Pitch(line_color='grey')\n",
        "fig, ax = pitch.grid(grid_height=0.9, title_height=0.06, axis=False,\n",
        "                     endnote_height=0.04, title_space=0, endnote_space=0)\n",
        "\n",
        "pitch.scatter(scatter_df.x, scatter_df.y, s=scatter_df.marker_size, color='red', edgecolors='grey', linewidth=1, alpha=1, ax=ax[\"pitch\"], zorder=3)\n",
        "\n",
        "for i, row in scatter_df.iterrows():\n",
        "    pitch.annotate(row.lastName, xy=(row.x, row.y), c='black', va='center', ha='center', weight=\"bold\", size=16, ax=ax[\"pitch\"], zorder=4)\n",
        "\n",
        "for i, row in lines_df.iterrows():\n",
        "    player1 = row[\"pair_key\"].split(\"_\")[0]\n",
        "    player2 = row['pair_key'].split(\"_\")[1]\n",
        "    # Take the average location of players to plot a line between them\n",
        "    player1_x = scatter_df.loc[scatter_df[\"lastName\"] == player1]['x'].iloc[0]\n",
        "    player1_y = scatter_df.loc[scatter_df[\"lastName\"] == player1]['y'].iloc[0]\n",
        "    player2_x = scatter_df.loc[scatter_df[\"lastName\"] == player2]['x'].iloc[0]\n",
        "    player2_y = scatter_df.loc[scatter_df[\"lastName\"] == player2]['y'].iloc[0]\n",
        "    num_passes = row[\"pass_count\"]\n",
        "    # Adjust the line width so that the more passes, the wider the line\n",
        "    line_width = (num_passes / lines_df['pass_count'].max() * 10)\n",
        "    # Plot lines on the pitch\n",
        "    pitch.lines(player1_x, player1_y, player2_x, player2_y,\n",
        "                alpha=1, lw=line_width, zorder=2, color=\"red\", ax=ax[\"pitch\"])\n",
        "\n",
        "fig.suptitle(\"Poland Offensive Passing Network against Senegal\", fontsize=30)\n",
        "plt.show()\n",
        "plt.savefig('Polish_Offensive_Passing_Network.jpg')\n"
      ],
      "metadata": {
        "id": "nm0bW91DcDz-"
      },
      "execution_count": null,
      "outputs": []
    },
    {
      "cell_type": "markdown",
      "source": [
        "### **Amount of passes and Passes success**"
      ],
      "metadata": {
        "id": "Z6-gg398wk2V"
      }
    },
    {
      "cell_type": "code",
      "source": [
        "df = polish_matches_events[(polish_matches_events.eventName=='Pass') & (polish_matches_events.teamId == 13869)].rename(columns={'label': 'matchName'})\n",
        "df = pd.merge(df, polish_players_names, on='playerId')\n",
        "df = df[['lastName', 'accurate']]\n",
        "# group by lastName and compute count and sum\n",
        "df = df.groupby('lastName').agg({'accurate': ['count', 'sum']})\n",
        "\n",
        "# rename the columns\n",
        "df.columns = ['count', 'sum']\n",
        "\n",
        "# reset the index\n",
        "df = df.reset_index()\n",
        "df['sucPass'] = df['sum'] / df['count']\n",
        "\n",
        "# set the plot size\n",
        "fig, ax = plt.subplots(figsize=(10, 8))\n",
        "\n",
        "# create the scatter plot\n",
        "df.plot(kind='scatter', x='count', y='sucPass', color='blue', ax=ax)\n",
        "\n",
        "# set the axis labels and title\n",
        "ax.set_xlabel('Count')\n",
        "ax.set_ylabel('Success Pass %')\n",
        "ax.set_title('Scatter Plot of Count vs Success Pass %')\n",
        "\n",
        "# add labels to the scatter plot\n",
        "for i, row in df.iterrows():\n",
        "    ax.text(row['count'], row['sucPass']+0.005, row['lastName'], ha='center', va='center')\n",
        "\n",
        "# display the plot\n",
        "plt.show()\n",
        "plt.savefig('Passing_Scatterplot.jpg')"
      ],
      "metadata": {
        "id": "jr9fOQe3w0Gu"
      },
      "execution_count": null,
      "outputs": []
    }
  ]
}